{
  "nbformat": 4,
  "nbformat_minor": 0,
  "metadata": {
    "colab": {
      "provenance": []
    },
    "kernelspec": {
      "name": "python3",
      "display_name": "Python 3"
    },
    "language_info": {
      "name": "python"
    }
  },
  "cells": [
    {
      "cell_type": "code",
      "execution_count": null,
      "metadata": {
        "id": "Eq01t0FBnKOr"
      },
      "outputs": [],
      "source": [
        "from matplotlib import pyplot as plt \n",
        "%matplotlib inline\n",
        "\n",
        "# visualizing capital_run_length_average:\n",
        "df['capital_run_length_average:'].hist(range=[0, 15])\n",
        "plt.xlabel('Average Run On Length')\n",
        "plt.ylabel('Count')"
      ]
    },
    {
      "cell_type": "code",
      "source": [
        "# visualizing word_freq_free:\n",
        "df['word_freq_free:'].hist(range=[0, 5], color='y')\n",
        "plt.xlabel(\"Frequency for the word 'Free'\")\n",
        "plt.ylabel('Count')"
      ],
      "metadata": {
        "id": "9nlAr2deoHtZ"
      },
      "execution_count": null,
      "outputs": []
    },
    {
      "cell_type": "code",
      "source": [
        "# visualizing word_freq_credit:\n",
        "df['word_freq_credit:'].hist(range=[0, 1], color='g')\n",
        "plt.xlabel(\"Frequency for the word 'Credit'\")\n",
        "plt.ylabel('Count')"
      ],
      "metadata": {
        "id": "D0_vGHI4oKoo"
      },
      "execution_count": null,
      "outputs": []
    }
  ]
}