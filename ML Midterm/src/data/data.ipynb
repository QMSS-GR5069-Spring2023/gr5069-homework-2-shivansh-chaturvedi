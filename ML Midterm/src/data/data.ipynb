{
  "nbformat": 4,
  "nbformat_minor": 0,
  "metadata": {
    "colab": {
      "provenance": []
    },
    "kernelspec": {
      "name": "python3",
      "display_name": "Python 3"
    },
    "language_info": {
      "name": "python"
    }
  },
  "cells": [
    {
      "cell_type": "code",
      "execution_count": null,
      "metadata": {
        "id": "vSvlSmmwbWzc"
      },
      "outputs": [],
      "source": [
        "from google.colab import drive\n",
        "drive.mount('/content/drive')\n",
        "\n",
        "# Supress Warnings\n",
        "import warnings\n",
        "warnings.filterwarnings('ignore')"
      ]
    },
    {
      "cell_type": "code",
      "source": [
        "import pandas as pd\n",
        "import numpy as np\n",
        "\n",
        "#importing and reading\n",
        "df = pd.read_csv(\"/content/drive/MyDrive/Colab Notebooks/Machine Learning/HW Midterms/spam_dataset.csv\")\n",
        "print(df.shape)\n",
        "df.head(n=6)"
      ],
      "metadata": {
        "id": "5YbyTQ6Tbc9y"
      },
      "execution_count": null,
      "outputs": []
    }
  ]
}