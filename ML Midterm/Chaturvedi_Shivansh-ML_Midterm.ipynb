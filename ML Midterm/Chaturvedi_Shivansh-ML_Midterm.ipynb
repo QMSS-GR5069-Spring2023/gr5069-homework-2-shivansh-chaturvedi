{
 "cells": [
  {
   "cell_type": "markdown",
   "metadata": {
    "id": "mOOrA6PiV5Zw"
   },
   "source": [
    "Shivansh Chaturvedi\n",
    "GR5073 - Midterm"
   ]
  },
  {
   "cell_type": "code",
   "execution_count": 306,
   "metadata": {
    "colab": {
     "base_uri": "https://localhost:8080/"
    },
    "id": "GBdeUAZqVO-T",
    "outputId": "f0fad3f2-b80d-41b3-9f67-31c76d80f7af"
   },
   "outputs": [
    {
     "name": "stdout",
     "output_type": "stream",
     "text": [
      "Drive already mounted at /content/drive; to attempt to forcibly remount, call drive.mount(\"/content/drive\", force_remount=True).\n"
     ]
    }
   ],
   "source": [
    "from google.colab import drive\n",
    "drive.mount('/content/drive')\n",
    "\n",
    "# Supress Warnings\n",
    "import warnings\n",
    "warnings.filterwarnings('ignore')"
   ]
  },
  {
   "cell_type": "markdown",
   "metadata": {
    "id": "JpxjOac9XHta"
   },
   "source": [
    "#### (1) Import the spam dataset and print the first six rows.  \n",
    "\n"
   ]
  },
  {
   "cell_type": "code",
   "execution_count": 307,
   "metadata": {
    "colab": {
     "base_uri": "https://localhost:8080/",
     "height": 349
    },
    "id": "Blq_JSewXBcM",
    "outputId": "69306be3-73bc-41fa-f545-49c9d0845f99"
   },
   "outputs": [
    {
     "name": "stdout",
     "output_type": "stream",
     "text": [
      "(4601, 58)\n"
     ]

    },
    "id": "9JN_zGWybljG",
    "outputId": "04952778-97d9-4666-fa4f-20076038b21a"
   },
   "outputs": [
    {
     "data": {

      "image/png": "iVBORw0KGgoAAAANSUhEUgAAAYsAAAEGCAYAAACUzrmNAAAABHNCSVQICAgIfAhkiAAAAAlwSFlzAAALEgAACxIB0t1+/AAAADh0RVh0U29mdHdhcmUAbWF0cGxvdGxpYiB2ZXJzaW9uMy4yLjIsIGh0dHA6Ly9tYXRwbG90bGliLm9yZy+WH4yJAAAeGUlEQVR4nO3df5hdVX3v8feHAMEaNCg4jUluJ5akNNLHCCPgrzqBawi0NdgLSB4rQbFRG3xAjQp6+yAgT/WaiJeK6ChpgtWEQKVGRGluyBFRA0kgBBIgTPlRksZwa0JwQONN/N4/9ho4DjOzTubMPifj+bye5zxn77XX2vu7ziTznf3jrKWIwMzMbDAHNTsAMzM78DlZmJlZlpOFmZllOVmYmVmWk4WZmWUd3OwAynDkkUdGe3v7kNs/++yzvPSlLx2+gEaAVutzq/UX3OdWUU+f169f/18RcVR/234vk0V7ezvr1q0bcvtKpUJnZ+fwBTQCtFqfW62/4D63inr6LOmJgbb5MpSZmWU5WZiZWZaThZmZZTlZmJlZlpOFmZllOVmYmVmWk4WZmWU5WZiZWZaThZmZZf1efoO7Xuu3r2f6ZdMbfty41BNRmdmByWcWZmaW5WRhZmZZThZmZpblZGFmZllOFmZmluVkYWZmWaUnC0mjJN0r6Za0PknSXZK6Jd0g6dBUPjqtd6ft7VX7uCSVPyzp1LJjNjOz39WIM4sLgQer1j8PXBURRwO7gPNT+fnArlR+VaqHpKnAOcBrgZnAVySNakDcZmaWlJosJE0A/gL4RloXcDJwU6qyBDgjLc9K66Ttp6T6s4BlEbEnIh4DuoETyozbzMx+V9nf4P4S8Ang8LT+SuDpiNib1rcC49PyeOBJgIjYK2l3qj8eWFO1z+o2z5M0F5gL0NbWRqVSGXLQE0ZPYMGUBUNuP1T1xFyvnp6eph6/0Vqtv+A+t4qy+lxaspD0l8BTEbFeUmdZx+kVEV1AF0BHR0fUM0n7wqULmb9l/jBFVruY3bzhPlptYvtW6y+4z62irD6XeWbxZuAdkk4HDgNeBvxvYKykg9PZxQRgW6q/DZgIbJV0MPBy4BdV5b2q25iZWQOUds8iIi6JiAkR0U5xg/r2iHg3sBo4M1WbA3w3La9I66Ttt0dEpPJz0tNSk4DJwN1lxW1mZi/WjFFnPwksk/RZ4F7gulR+HfBNSd3ATooEQ0RskrQc2AzsBeZFxL7Gh21m1roakiwiogJU0vKj9PM0U0T8GjhrgPZXAleWF6GZmQ3G3+A2M7MsJwszM8tysjAzsywnCzMzy3KyMDOzLCcLMzPLcrIwM7MsJwszM8tysjAzsywnCzMzy3KyMDOzLCcLMzPLcrIwM7MsJwszM8tysjAzsywnCzMzyyotWUg6TNLdku6TtEnSZal8saTHJG1Ir2mpXJKultQtaaOk46r2NUfSI+k1Z6BjmplZOcqcKW8PcHJE9Eg6BLhT0g/Sto9HxE196p9GMb/2ZOBE4FrgREmvAC4FOoAA1ktaERG7SozdzMyqlHZmEYWetHpIesUgTWYB16d2a4CxksYBpwIrI2JnShArgZllxW1mZi+miMF+f9e5c2kUsB44GrgmIj4paTHwRoozj1XAxRGxR9ItwOci4s7UdhXwSaATOCwiPpvK/x74VUQs6HOsucBcgLa2tuOXLVs25Lh37NzB1j1bh9x+qI4fd3zDj9mrp6eHMWPGNO34jdZq/QX3uVXU0+fp06evj4iO/raVeRmKiNgHTJM0FrhZ0rHAJcDPgUOBLoqEcPkwHKsr7Y+Ojo7o7Owc8r4WLl3I/C3z6w1pv8Xs8hJ3TqVSoZ7PbKRptf6C+9wqyupzQ56GioingdXAzIjYni417QH+CTghVdsGTKxqNiGVDVRuZmYNUubTUEelMwokvQR4O/BQug+BJAFnAA+kJiuAc9NTUScBuyNiO3AbMEPSEZKOAGakMjMza5AyL0ONA5ak+xYHAcsj4hZJt0s6ChCwAfhgqn8rcDrQDTwHvBcgInZKugJYm+pdHhE7S4zbzMz6KC1ZRMRG4PX9lJ88QP0A5g2wbRGwaFgDNDOzmvkb3GZmluVkYWZmWU4WZmaW5WRhZmZZThZmZpblZGFmZllOFmZmluVkYWZmWU4WZmaW5WRhZmZZThZmZpblZGFmZllOFmZmluVkYWZmWU4WZmaWVeZMeYdJulvSfZI2SboslU+SdJekbkk3SDo0lY9O691pe3vVvi5J5Q9LOrWsmM3MrH9lnlnsAU6OiNcB04CZabrUzwNXRcTRwC7g/FT/fGBXKr8q1UPSVOAc4LXATOArafY9MzNrkNKSRRR60uoh6RXAycBNqXwJxTzcALPSOmn7KWme7lnAsojYExGPUUy7ekJZcZuZ2YuVOQc36QxgPXA0cA3w78DTEbE3VdkKjE/L44EnASJir6TdwCtT+Zqq3Va3qT7WXGAuQFtbG5VKZchxTxg9gQVTFgy5/VDVE3O9enp6mnr8Rmu1/oL73CrK6nOpySIi9gHTJI0FbgaOKfFYXUAXQEdHR3R2dg55XwuXLmT+lvnDFFntYnY0/Ji9KpUK9XxmI02r9Rfc51ZRVp8b8jRURDwNrAbeCIyV1JukJgDb0vI2YCJA2v5y4BfV5f20MTOzBijzaaij0hkFkl4CvB14kCJpnJmqzQG+m5ZXpHXS9tsjIlL5OelpqUnAZODusuI2M7MXK/My1DhgSbpvcRCwPCJukbQZWCbps8C9wHWp/nXANyV1AzspnoAiIjZJWg5sBvYC89LlLTMza5DSkkVEbARe30/5o/TzNFNE/Bo4a4B9XQlcOdwxmplZbfwNbjMzy3KyMDOzLCcLMzPLcrIwM7MsJwszM8tysjAzsywnCzMzy3KyMDOzLCcLMzPLcrIwM7MsJwszM8tysjAzsywnCzMzy3KyMDOzLCcLMzPLcrIwM7OsMqdVnShptaTNkjZJujCVf0bSNkkb0uv0qjaXSOqW9LCkU6vKZ6aybkkXlxWzmZn1r8xpVfcCH4uIeyQdDqyXtDJtuyoiFlRXljSVYirV1wKvBv6PpClp8zUUc3hvBdZKWhERm0uM3czMqpQ5rep2YHta/qWkB4HxgzSZBSyLiD3AY2ku7t7pV7vTdKxIWpbqOlmYmTWIIqL8g0jtwB3AscBHgfOAZ4B1FGcfuyR9GVgTEf+c2lwH/CDtYmZEvD+Vvwc4MSIu6HOMucBcgLa2tuOXLVs25Hh37NzB1j1bh9x+qI4fd3zDj9mrp6eHMWPGNO34jdZq/QX3uVXU0+fp06evj4iO/raVeRkKAEljgH8BLoqIZyRdC1wBRHpfCLyv3uNERBfQBdDR0RGdnZ1D3tfCpQuZv2V+vSHtt5hdfuIeSKVSoZ7PbKRptf6C+9wqyupzTTe4Jb25lrJ+6hxCkSi+FRHfAYiIHRGxLyJ+C3ydFy41bQMmVjWfkMoGKjczswap9Wmof6yx7HmSBFwHPBgRX6wqH1dV7Z3AA2l5BXCOpNGSJgGTgbuBtcBkSZMkHUpxE3xFjXGbmdkwGPQylKQ3Am8CjpL00apNLwNGZfb9ZuA9wP2SNqSyTwGzJU2juAz1OPABgIjYJGk5xY3rvcC8iNiX4rgAuC0dc1FEbKq5h2ZmVrfcPYtDgTGp3uFV5c8AZw7WMCLuBNTPplsHaXMlcGU/5bcO1s7MzMo1aLKIiB8BP5K0OCKeaFBMZmZ2gKn1aajRkrqA9uo2EXFyGUGZmdmBpdZkcSPwVeAbwL7ywjEzswNRrclib0RcW2okZmZ2wKr10dnvSfo7SeMkvaL3VWpkZmZ2wKj1zGJOev94VVkArxnecMzM7EBUU7KIiEllB2JmZgeumpKFpHP7K4+I64c3HDMzOxDVehnqDVXLhwGnAPcAThZmZi2g1stQH65elzQWGPoY4GZmNqIMdVrVZwHfxzAzaxG13rP4HsXTT1AM5venwPKygjIzswNLrfcsqufL3gs8ERGNn0rOzMyaoqbLUGlAwYcoRp49AvhNmUGZmdmBpdaZ8s6mmIjoLOBs4C5Jgw5RbmZmvz9qvcH9aeANETEnIs6lmAr17wdrIGmipNWSNkvaJOnCVP4KSSslPZLej0jlknS1pG5JGyUdV7WvOan+I5LmDHRMMzMrR63J4qCIeKpq/Rc1tN0LfCwipgInAfMkTQUuBlZFxGRgVVoHOI1iKtXJwFzgWiiSC3ApcCJFkrq0N8GYmVlj1JosfijpNknnSToP+D6ZmesiYntE3JOWfwk8CIwHZgFLUrUlwBlpeRZwfRTWAGPTfN2nAisjYmdE7AJWAjNr7qGZmdUtNwf30UBbRHxc0l8Db0mbfgZ8q9aDSGoHXg/clfa3PW36OdCWlscDT1Y125rKBio3M7MGyT06+yXgEoCI+A7wHQBJf5a2/VXuAJLGAP8CXBQRz0gvTMsdESEpBmy8HyTNpbh8RVtbG5VKZcj7mjB6AgumLMhXHGb1xFyvnp6eph6/0Vqtv+A+t4qy+pxLFm0RcX/fwoi4P50tDErSIRSJ4lsp2QDskDQuIrany0y990K2AROrmk9IZduAzj7llX5i6gK6ADo6OqKzs7NvlZotXLqQ+VvmD7n9UMXsYcmbQ1KpVKjnMxtpWq2/4D63irL6nLtnMXaQbS8ZrKGKU4jrgAcj4otVm1bwwvwYc4DvVpWfm56KOgnYnS5X3QbMkHREurE9I5WZmVmD5M4s1kn624j4enWhpPcD6zNt3wy8B7hf0oZU9ingc8BySecDT1B8bwOKG+anA93Ac8B7ASJip6QrgLWp3uURsTPbMzMzGza5ZHERcLOkd/NCcugADgXeOVjDiLgT0ACbT+mnfgDzBtjXImBRJlYzMyvJoMkiInYAb5I0HTg2FX8/Im4vPTIzMztg1DqfxWpgdcmxmJnZAWqo81mYmVkLcbIwM7MsJwszM8tysjAzsywnCzMzy3KyMDOzLCcLMzPLcrIwM7MsJwszM8tysjAzsywnCzMzy3KyMDOzLCcLMzPLcrIwM7Os0pKFpEWSnpL0QFXZZyRtk7QhvU6v2naJpG5JD0s6tap8ZirrlnRxWfGamdnAyjyzWAzM7Kf8qoiYll63AkiaCpwDvDa1+YqkUZJGAdcApwFTgdmprpmZNVBNkx8NRUTcIam9xuqzgGURsQd4TFI3cELa1h0RjwJIWpbqbh7mcM3MbBClJYtBXCDpXGAd8LGI2AWMB9ZU1dmaygCe7FN+Yn87lTQXmAvQ1tZGpVIZcoATRk9gwZQFQ24/VPXEXK+enp6mHr/RWq2/4D63irL63OhkcS1wBRDpfSHwvuHYcUR0AV0AHR0d0dnZOeR9LVy6kPlb5g9HWPslZkfDj9mrUqlQz2c20rRaf8F9bhVl9bmhySIidvQuS/o6cEta3QZMrKo6IZUxSLmZmTVIQx+dlTSuavWdQO+TUiuAcySNljQJmAzcDawFJkuaJOlQipvgKxoZs5mZlXhmIWkp0AkcKWkrcCnQKWkaxWWox4EPAETEJknLKW5c7wXmRcS+tJ8LgNuAUcCiiNhUVsxmZta/Mp+Gmt1P8XWD1L8SuLKf8luBW4cxNDMz20/+BreZmWU5WZiZWZaThZmZZTlZmJlZlpOFmZllOVmYmVmWk4WZmWU5WZiZWZaThZmZZTlZmJlZlpOFmZllOVmYmVmWk4WZmWU5WZiZWZaThZmZZTlZmJlZVmnJQtIiSU9JeqCq7BWSVkp6JL0fkcol6WpJ3ZI2Sjquqs2cVP8RSXPKitfMzAZW5pnFYmBmn7KLgVURMRlYldYBTqOYd3syMBe4ForkQjEd64nACcClvQnGzMwap7RkERF3ADv7FM8ClqTlJcAZVeXXR2ENMFbSOOBUYGVE7IyIXcBKXpyAzMysZKXNwT2AtojYnpZ/DrSl5fHAk1X1tqaygcpfRNJcirMS2traqFQqQw5ywugJLJiyYMjth6qemOvV09PT1OM3Wqv1F9znVlFWnxudLJ4XESEphnF/XUAXQEdHR3R2dg55XwuXLmT+lvnDFFntYvawfRz7rVKpUM9nNtK0Wn/BfW4VZfW50U9D7UiXl0jvT6XybcDEqnoTUtlA5WZm1kCNThYrgN4nmuYA360qPzc9FXUSsDtdrroNmCHpiHRje0YqMzOzBirtMpSkpUAncKSkrRRPNX0OWC7pfOAJ4OxU/VbgdKAbeA54L0BE7JR0BbA21bs8IvreNDczs5KVliwiYvYAm07pp24A8wbYzyJg0TCGZmZm+8nf4DYzsywnCzMzy3KyMDOzLCcLMzPLcrIwM7MsJwszM8tysjAzsywnCzMzy3KyMDOzLCcLMzPLcrIwM7MsJwszM8tysjAzsywnCzMzy3KyMDOzrKYkC0mPS7pf0gZJ61LZKyStlPRIej8ilUvS1ZK6JW2UdFwzYjYza2XNPLOYHhHTIqIjrV8MrIqIycCqtA5wGjA5veYC1zY8UjOzFncgXYaaBSxJy0uAM6rKr4/CGmCspHHNCNDMrFWpmNG0wQeVHgN2AQF8LSK6JD0dEWPTdgG7ImKspFuAz0XEnWnbKuCTEbGuzz7nUpx50NbWdvyyZcuGHN+OnTvYumfrkNsP1fHjjm/4MXv19PQwZsyYph2/0Vqtv+A+t4p6+jx9+vT1VVd7fkdpc3BnvCUitkl6FbBS0kPVGyMiJO1XFouILqALoKOjIzo7O4cc3MKlC5m/Zf6Q2w9VzG584u5VqVSo5zMbaVqtv+A+t4qy+tyUy1ARsS29PwXcDJwA7Oi9vJTen0rVtwETq5pPSGVmZtYgDU8Wkl4q6fDeZWAG8ACwApiTqs0BvpuWVwDnpqeiTgJ2R8T2BodtZtbSmnEZqg24ubgtwcHAtyPih5LWAsslnQ88AZyd6t8KnA50A88B7218yGZmra3hySIiHgVe10/5L4BT+ikPYF4DQjMzswEcSI/OmpnZAcrJwszMspwszMwsy8nCzMyynCzMzCzLycLMzLKcLMzMLMvJwszMspwszMwsy8nCzMyynCzMzCzLycLMzLKcLMzMLMvJwszMspwszMwsq1lzcFs/dJmaduwFUxYw/bLpDT9uXNq8ecfNrHYj5sxC0kxJD0vqlnRxs+MxM2slI+LMQtIo4Brg7cBWYK2kFRGxubmRWb2adTbVrDMp8NmUjUwjIlkAJwDdaUpWJC0DZgFOFjbiOEG2hmb9nFe/bXUp+1UxxfWBTdKZwMyIeH9afw9wYkRcUFVnLjA3rf4J8HAdhzwS+K862o9ErdbnVusvuM+top4+/1FEHNXfhpFyZpEVEV1A13DsS9K6iOgYjn2NFK3W51brL7jPraKsPo+UG9zbgIlV6xNSmZmZNcBISRZrgcmSJkk6FDgHWNHkmMzMWsaIuAwVEXslXQDcBowCFkXEphIPOSyXs0aYVutzq/UX3OdWUUqfR8QNbjMza66RchnKzMyayMnCzMyyWjZZ5IYPkTRa0g1p+12S2hsf5fCqoc8flbRZ0kZJqyT9UTPiHE61DhMj6X9ICkkj/jHLWvos6ez0s94k6duNjnG41fBv+79JWi3p3vTv+/RmxDlcJC2S9JSkBwbYLklXp89jo6Tj6j5oRLTci+Im+b8DrwEOBe4Dpvap83fAV9PyOcANzY67AX2eDvxBWv5QK/Q51TscuANYA3Q0O+4G/JwnA/cCR6T1VzU77gb0uQv4UFqeCjze7Ljr7POfA8cBDwyw/XTgB4CAk4C76j1mq55ZPD98SET8BugdPqTaLGBJWr4JOEVS84aFrV+2zxGxOiKeS6trKL7PMpLV8nMGuAL4PPDrRgZXklr6/LfANRGxCyAinmpwjMOtlj4H8LK0/HLgPxsY37CLiDuAnYNUmQVcH4U1wFhJ4+o5Zqsmi/HAk1XrW1NZv3UiYi+wG3hlQ6IrRy19rnY+xV8mI1m2z+n0fGJEfL+RgZWolp/zFGCKpJ9IWiNpZsOiK0ctff4M8DeStgK3Ah9uTGhNs7//37NGxPcsrLEk/Q3QAbyt2bGUSdJBwBeB85ocSqMdTHEpqpPi7PEOSX8WEU83NapyzQYWR8RCSW8Evinp2Ij4bbMDGyla9cyiluFDnq8j6WCKU9dfNCS6ctQ0ZIqk/w58GnhHROxpUGxlyfX5cOBYoCLpcYpruytG+E3uWn7OW4EVEfH/IuIxYAtF8hipaunz+cBygIj4GXAYxYB7v6+GfYikVk0WtQwfsgKYk5bPBG6PdOdohMr2WdLrga9RJIqRfh0bMn2OiN0RcWREtEdEO8V9mndExLrmhDssavm3/a8UZxVIOpListSjjQxymNXS5/8ATgGQ9KcUyeL/NjTKxloBnJueijoJ2B0R2+vZYUtehooBhg+RdDmwLiJWANdRnKp2U9xIOqd5Edevxj5/ARgD3Jju5f9HRLyjaUHXqcY+/16psc+3ATMkbQb2AR+PiBF71lxjnz8GfF3SRyhudp83kv/4k7SUIuEfme7DXAocAhARX6W4L3M60A08B7y37mOO4M/LzMwapFUvQ5mZ2X5wsjAzsywnCzMzy3KyMDOzLCcLMzPLcrKwuknaJ2lD1au92TENF0lL06idHxli+05Jb6paXyzpzOGLsH4pxlsGKF9ctX6apHVptNp7JS2s87g96f3Vkm5Ky9OqR4SVdJ6kz9RzHBseLfk9Cxt2v4qIaf1tSIMvaiQOqyDpD4E3RMTR+9Hm4DSWWK9OoAf46TCHN2SSRkXEvv1scyzwZeAvIuIhSaOAuf3U69v/rIj4T4ovvgJMoxhq5tb92YeVz2cWNuwktae5Ba4HHgAmSvq4pLXpr/TLqup+WtIWSXemv+Lnp/JK77Abko5Mw3EgaZSkL1Tt6wOpvDO1uUnSQ5K+1TtKsKQ3SPqppPsk3S3pcEl3SJpWFcedkl7Xpyv/BoxPZ0tvTX/1rknHvVnSEVWxfknSOuDC6s8B+CDwkd59pE1/nuJ5tPosY6DPqGr7WZK+mJYvlPRoWn6NpJ+k5VPSX/33q5jzYHQqf1zS5yXdA5ylYv6Hh9L6Xw/wo/wNxQCaAJ8AroyIhwAiYl9EXJv2vVjSVyXdBfwvSX8s6YeS1kv6saRjUr1Jkn6WYvtsn38vD6j49vXlwLvS5/Uu4FcUydaardnjsvs18l8U3wLekF43A+3Ab4GT0vYZFPMJiOIPlFsoxuM/Hrgf+AOK4aO7gfmpTYU0twTFGD6Pp+W5wP9My6OBdcAkir/gd1OMgXMQ8DPgLRTzGzxKcYZAOs7BFEO5fCmVTaH4pm/ffrVTNV8AsBF4W1q+vKp9BfjKAJ/NZ3r7lNYXAzemGKdSDK094GfUZ19/CKxNyzdRDHMxPvXlHyiGsHgSmJLqXA9clJYfBz6RlnvrTU7HWw7ckvkZ3wO8boBti1O8o9L6KmByWj6RYqgcSENQpOV5QE/fz5liUMcvN/vftF8vfvnMwobDryJiWnq9M5U9EcU4+lD8IpxBMeHOPcAxFL+o3grcHBHPRcQzvHg8n/7MoBjzZgNwF8Ww8b2D4N0dEVujuOS1geKX0J8A2yNiLUBEPBPFZZIbgb+UdAjwPopfeAOS9HJgbET8KBUtoUh4vW6oIfZe/xoRv42IzUBbVb/6+4yeFxE/B8ZIOpxikLhvpxjeCvw49fWxiNiSifGYVO+RKH5D//N+xD6QGyNin6QxwJsohozZQDHWWO88Cm8Glqblbw7DMa2BfM/CyvJs1bKAf4iIr1VXkHTRIO338sJl0sP67OvDEXFbn311AtWj5O5jkH/fEfGcpJUUk8ScTXGWU49n81WeVx2nqt5f9Bn146cU4/w8TJEg3ge8kWLso/ZhjLGvTRSf0X2ZfR8EPB0D3MOiGJfJRiCfWVgj3Aa8L/3ViaTxkl5FMZXpGZJekv5a/quqNo/zwi/wM/vs60PpjABJUyS9dJBjPwyMk/SGVP9wFUPOA3wDuJri0s6uwToQEbuBXVX3Hd4D/GiQJr1+STEUes5An1FfPwbmU3x291JMhbsnxfcw0C6p94b8QDE+lOr9cVqfXUN8XwA+JWlKiu8gSR/sWymdIT4m6axUT1X3gn7CCwNyvnuA49T6eVmDOVlY6SLi3ygumfxM0v0U19sPj4h7KC6N3EcxK9/aqmYLKJLCvfzuvAPfADYD96iYrP5rDH4G8RvgXcA/SroPWEk6U4mI9cAzwD/V2JU5wBckbaR4aufyGtp8D3hnnxvc/cXZ72fUT9UfU1yCuiOKJ5qeBO5M+/g1xVnHjWkfvwW+2s+xfk1x7+f76QZ3djj6iNgIXAQslfQgxYMLrxmg+ruB89PnvYkXpji9EJiXYhto1rbVwNSqG9x2gPCos3bAUPE8fU9ELGjQ8V5NcXP6mBiBj/aaNZLPLKwlSTqX4gb5p50ozPJ8ZmFmZlk+szAzsywnCzMzy3KyMDOzLCcLMzPLcrIwM7Os/w8Zz6Ev/6dagwAAAABJRU5ErkJggg==\n",
      "text/plain": [
       "<Figure size 432x288 with 1 Axes>"
      ]
     },
     "metadata": {
      "needs_background": "light"
     },
     "output_type": "display_data"

    "# K Neighbors Classifier\n",
    "\n",
    "knn.fit(X_train2, y_train2)\n",
    "\n",
    "print(\"KNN CLASSIFER (SCALED) SCORES\")\n",
    "print(\"Test Set Score with 6 variables: {:.3f}\".format(knn.score(X_test2, y_test2)))\n",
    "print(\"Mean Cross Validation Score using KFold with 6 variables: {:.3f}\".format(np.mean(cross_val_score(knn, X_train2, y_train2, cv=kfold))))\n",
    "print(\"Test Set Score with 3 variables: {:.3f}\".format(knn_test_score))\n",
    "print(\"Mean Cross Validation Score using KFold with 3 variables: {:.3f}\".format(knn_mean_score))\n",
    "\n",
    "print(\"\\n\")\n",
    "\n",
    "# Logistic Regression\n",
    "\n",
    "logreg.fit(X_train2, y_train2)\n",
    "\n",
    "print(\"LOGISTIC REGRESSION (SCALED) SCORES\")\n",
    "print(\"Test Set Score with 6 variables: {:.3f}\".format(logreg.score(X_test2, y_test2)))\n",
    "print(\"Mean Cross Validation Score using KFold with 6 variables: {:.3f}\".format(np.mean(cross_val_score(logreg, X_train2, y_train2, cv=kfold))))\n",
    "print(\"Test Set Score with 3 variables: {:.3f}\".format(logreg_test_score))\n",
    "print(\"Mean Cross Validation Score using KFold with 3 variables: {:.3f}\".format(logreg_mean_score))\n",
    "\n",
    "print(\"\\n\")\n",
    "\n",
    "# Tree\n",
    "\n",
    "tree.fit(X_train2, y_train2)\n",
    "\n",
    "print(\"TREE MODEL (SCALED) SCORES\")\n",
    "print(\"Test Set Score with 6 variables: {:.3f}\".format(tree.score(X_test2, y_test2)))\n",
    "print(\"Mean Cross Validation Score using KFold with 6 variables: {:.3f}\".format(np.mean(cross_val_score(tree, X_train2, y_train2, cv=kfold))))\n",
    "print(\"Test Set Score with 3 variables: {:.3f}\".format(tree_test_score))\n",
    "print(\"Mean Cross Validation Score using KFold with 3 variables: {:.3f}\".format(tree_mean_score))\n",
    "\n",
    "print(\"\\n\")\n",
    "\n",
    "print(\"RANDOM FOREST (SCALED) SCORES\")\n",
    "print(\"Test set score with 6 variables: {:.3f}\".format(forest2_test_score))\n",
    "print(\"Mean Cross Validation Score using KFold with 6 variables: {:.3f}\".format(forest2_mean_score))\n",
    "print(\"Test set score with 3 variables: {:.3f}\".format(forest_test_score))\n",
    "print(\"Mean Cross Validation Score using KFold with 3 variables: {:.3f}\".format(forest_mean_score))\n",
    "\n",
    "print(\"\\n\")\n",
    "\n",
    "# Summarizing\n",
    "\n",
    "print(\"Based on the scores above, as well as the scores from the previous question, the Random Forest Model with 6 Variables\")\n",
    "print(\"had the highest test score and the highest Mean Cross Val of all the models presented so far (in this random state). \")\n",
    "print(\"Based on this performance, I would choose this model, as it is the best predictor of unseen data. \")\n",
    "\n"
   ]
  },
  {
   "cell_type": "markdown",
   "metadata": {
    "id": "0oKPn8mHro3w"
   },
   "source": [
    "#### (14) What variable that currently is not in your model, if included, would be likely to increase your final model's predictive power?  For this answer try to speculate about a variable outside the variables available in the data that would improve you model."
   ]
  },
  {
   "cell_type": "markdown",
   "metadata": {
    "id": "9QFvxOjurrT3"
   },
   "source": [
    "I would have loved to see a variable counting for words like \"click here\", as I know that many spam emails use clickbait as a way to extract personal information. \n",
    "\n",
    "I also think that a variable that counts the number of hyperlinks/URLs in the e-mail body would be cool, as it would be a good indicator to see how many outbound routes that email presents (which is also a popular aspect of spam emails, especially advertising or deal spam)."
   ]
  },
  {
   "cell_type": "markdown",
   "metadata": {
    "id": "0Z_QL48VsTuE"
   },
   "source": [
    "#### (15) Lastly, you have listed each of the models that we have learned to use to predict dependent variables like spam.  List each model we have focused on in class thus far that you could use to evaluate data with a continuous dependent variable. "
   ]
  },
  {
   "cell_type": "markdown",
   "metadata": {
    "id": "q0TuQaULsoVO"
   },
   "source": [
    "We have covered K-Nearest Neighbor (Regressor), Linear Regression, Ridge, Lasso, Logistic Regression, Decision Trees Regressor, Random Forests Regressor, (bagging, boosting), Support Vector Machines"
   ]
  }
 ],
 "metadata": {
  "colab": {
   "provenance": []
  },
  "kernelspec": {
   "display_name": "Python 3 (ipykernel)",
   "language": "python",
   "name": "python3"
  },
  "language_info": {
   "codemirror_mode": {
    "name": "ipython",
    "version": 3
   },
   "file_extension": ".py",
   "mimetype": "text/x-python",
   "name": "python",
   "nbconvert_exporter": "python",
   "pygments_lexer": "ipython3",
   "version": "3.9.12"
  }
 },
 "nbformat": 4,
 "nbformat_minor": 1
}
