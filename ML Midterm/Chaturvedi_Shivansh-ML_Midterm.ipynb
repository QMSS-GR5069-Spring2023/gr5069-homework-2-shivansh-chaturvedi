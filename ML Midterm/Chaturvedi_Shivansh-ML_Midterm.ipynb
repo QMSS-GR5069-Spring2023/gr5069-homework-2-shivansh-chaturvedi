{
 "cells": [
  {
   "cell_type": "markdown",
   "metadata": {
    "id": "mOOrA6PiV5Zw"
   },
   "source": [
    "Shivansh Chaturvedi\n",
    "GR5073 - Midterm"
   ]
  },
  {
   "cell_type": "code",
   "execution_count": 306,
   "metadata": {
    "colab": {
     "base_uri": "https://localhost:8080/"
    },
    "id": "GBdeUAZqVO-T",
    "outputId": "f0fad3f2-b80d-41b3-9f67-31c76d80f7af"
   },
   "outputs": [
    {
     "name": "stdout",
     "output_type": "stream",
     "text": [
      "Drive already mounted at /content/drive; to attempt to forcibly remount, call drive.mount(\"/content/drive\", force_remount=True).\n"
     ]
    }
   ],
   "source": [
    "from google.colab import drive\n",
    "drive.mount('/content/drive')\n",
    "\n",
    "# Supress Warnings\n",
    "import warnings\n",
    "warnings.filterwarnings('ignore')"
   ]
  },
  {
   "cell_type": "markdown",
   "metadata": {
    "id": "JpxjOac9XHta"
   },
   "source": [
    "#### (1) Import the spam dataset and print the first six rows.  \n",
    "\n"
   ]
  },
  {
   "cell_type": "code",
   "execution_count": 307,
   "metadata": {
    "colab": {
     "base_uri": "https://localhost:8080/",
     "height": 349
    },
    "id": "Blq_JSewXBcM",
    "outputId": "69306be3-73bc-41fa-f545-49c9d0845f99"
   },
   "outputs": [
    {
     "name": "stdout",
     "output_type": "stream",
     "text": [
      "(4601, 58)\n"
     ]
    },
    {
     "data": {
      "text/html": [
       "\n",
       "  <div id=\"df-41b7dfc9-5a7f-43ab-8389-d1deb932f795\">\n",
       "    <div class=\"colab-df-container\">\n",
       "      <div>\n",
       "<style scoped>\n",
       "    .dataframe tbody tr th:only-of-type {\n",
       "        vertical-align: middle;\n",
       "    }\n",
       "\n",
       "    .dataframe tbody tr th {\n",
       "        vertical-align: top;\n",
       "    }\n",
       "\n",
       "    .dataframe thead th {\n",
       "        text-align: right;\n",
       "    }\n",
       "</style>\n",
       "<table border=\"1\" class=\"dataframe\">\n",
       "  <thead>\n",
       "    <tr style=\"text-align: right;\">\n",
       "      <th></th>\n",
       "      <th>word_freq_make:</th>\n",
       "      <th>word_freq_address:</th>\n",
       "      <th>word_freq_all:</th>\n",
       "      <th>word_freq_3d:</th>\n",
       "      <th>word_freq_our:</th>\n",
       "      <th>word_freq_over:</th>\n",
       "      <th>word_freq_remove:</th>\n",
       "      <th>word_freq_internet:</th>\n",
       "      <th>word_freq_order:</th>\n",
       "      <th>word_freq_mail:</th>\n",
       "      <th>...</th>\n",
       "      <th>char_freq_;:</th>\n",
       "      <th>char_freq_(:</th>\n",
       "      <th>char_freq_[:</th>\n",
       "      <th>char_freq_!:</th>\n",
       "      <th>char_freq_$:</th>\n",
       "      <th>char_freq_#:</th>\n",
       "      <th>capital_run_length_average:</th>\n",
       "      <th>capital_run_length_longest:</th>\n",
       "      <th>capital_run_length_total:</th>\n",
       "      <th>spam</th>\n",
       "    </tr>\n",
       "  </thead>\n",
       "  <tbody>\n",
       "    <tr>\n",
       "      <th>0</th>\n",
       "      <td>0.00</td>\n",
       "      <td>0.64</td>\n",
       "      <td>0.64</td>\n",
       "      <td>0.0</td>\n",
       "      <td>0.32</td>\n",
       "      <td>0.00</td>\n",
       "      <td>0.00</td>\n",
       "      <td>0.00</td>\n",
       "      <td>0.00</td>\n",
       "      <td>0.00</td>\n",
       "      <td>...</td>\n",
       "      <td>0.00</td>\n",
       "      <td>0.000</td>\n",
       "      <td>0.0</td>\n",
       "      <td>0.778</td>\n",
       "      <td>0.000</td>\n",
       "      <td>0.000</td>\n",
       "      <td>3.756</td>\n",
       "      <td>61</td>\n",
       "      <td>278</td>\n",
       "      <td>1</td>\n",
       "    </tr>\n",
       "    <tr>\n",
       "      <th>1</th>\n",
       "      <td>0.21</td>\n",
       "      <td>0.28</td>\n",
       "      <td>0.50</td>\n",
       "      <td>0.0</td>\n",
       "      <td>0.14</td>\n",
       "      <td>0.28</td>\n",
       "      <td>0.21</td>\n",
       "      <td>0.07</td>\n",
       "      <td>0.00</td>\n",
       "      <td>0.94</td>\n",
       "      <td>...</td>\n",
       "      <td>0.00</td>\n",
       "      <td>0.132</td>\n",
       "      <td>0.0</td>\n",
       "      <td>0.372</td>\n",
       "      <td>0.180</td>\n",
       "      <td>0.048</td>\n",
       "      <td>5.114</td>\n",
       "      <td>101</td>\n",
       "      <td>1028</td>\n",
       "      <td>1</td>\n",
       "    </tr>\n",
       "    <tr>\n",
       "      <th>2</th>\n",
       "      <td>0.06</td>\n",
       "      <td>0.00</td>\n",
       "      <td>0.71</td>\n",
       "      <td>0.0</td>\n",
       "      <td>1.23</td>\n",
       "      <td>0.19</td>\n",
       "      <td>0.19</td>\n",
       "      <td>0.12</td>\n",
       "      <td>0.64</td>\n",
       "      <td>0.25</td>\n",
       "      <td>...</td>\n",
       "      <td>0.01</td>\n",
       "      <td>0.143</td>\n",
       "      <td>0.0</td>\n",
       "      <td>0.276</td>\n",
       "      <td>0.184</td>\n",
       "      <td>0.010</td>\n",
       "      <td>9.821</td>\n",
       "      <td>485</td>\n",
       "      <td>2259</td>\n",
       "      <td>1</td>\n",
       "    </tr>\n",
       "    <tr>\n",
       "      <th>3</th>\n",
       "      <td>0.00</td>\n",
       "      <td>0.00</td>\n",
       "      <td>0.00</td>\n",
       "      <td>0.0</td>\n",
       "      <td>0.63</td>\n",
       "      <td>0.00</td>\n",
       "      <td>0.31</td>\n",
       "      <td>0.63</td>\n",
       "      <td>0.31</td>\n",
       "      <td>0.63</td>\n",
       "      <td>...</td>\n",
       "      <td>0.00</td>\n",
       "      <td>0.137</td>\n",
       "      <td>0.0</td>\n",
       "      <td>0.137</td>\n",
       "      <td>0.000</td>\n",
       "      <td>0.000</td>\n",
       "      <td>3.537</td>\n",
       "      <td>40</td>\n",
       "      <td>191</td>\n",
       "      <td>1</td>\n",
       "    </tr>\n",
       "    <tr>\n",
       "      <th>4</th>\n",
       "      <td>0.00</td>\n",
       "      <td>0.00</td>\n",
       "      <td>0.00</td>\n",
       "      <td>0.0</td>\n",
       "      <td>0.63</td>\n",
       "      <td>0.00</td>\n",
       "      <td>0.31</td>\n",
       "      <td>0.63</td>\n",
       "      <td>0.31</td>\n",
       "      <td>0.63</td>\n",
       "      <td>...</td>\n",
       "      <td>0.00</td>\n",
       "      <td>0.135</td>\n",
       "      <td>0.0</td>\n",
       "      <td>0.135</td>\n",
       "      <td>0.000</td>\n",
       "      <td>0.000</td>\n",
       "      <td>3.537</td>\n",
       "      <td>40</td>\n",
       "      <td>191</td>\n",
       "      <td>1</td>\n",
       "    </tr>\n",
       "    <tr>\n",
       "      <th>5</th>\n",
       "      <td>0.00</td>\n",
       "      <td>0.00</td>\n",
       "      <td>0.00</td>\n",
       "      <td>0.0</td>\n",
       "      <td>1.85</td>\n",
       "      <td>0.00</td>\n",
       "      <td>0.00</td>\n",
       "      <td>1.85</td>\n",
       "      <td>0.00</td>\n",
       "      <td>0.00</td>\n",
       "      <td>...</td>\n",
       "      <td>0.00</td>\n",
       "      <td>0.223</td>\n",
       "      <td>0.0</td>\n",
       "      <td>0.000</td>\n",
       "      <td>0.000</td>\n",
       "      <td>0.000</td>\n",
       "      <td>3.000</td>\n",
       "      <td>15</td>\n",
       "      <td>54</td>\n",
       "      <td>1</td>\n",
       "    </tr>\n",
       "  </tbody>\n",
       "</table>\n",
       "<p>6 rows × 58 columns</p>\n",
       "</div>\n",
       "      <button class=\"colab-df-convert\" onclick=\"convertToInteractive('df-41b7dfc9-5a7f-43ab-8389-d1deb932f795')\"\n",
       "              title=\"Convert this dataframe to an interactive table.\"\n",
       "              style=\"display:none;\">\n",
       "        \n",
       "  <svg xmlns=\"http://www.w3.org/2000/svg\" height=\"24px\"viewBox=\"0 0 24 24\"\n",
       "       width=\"24px\">\n",
       "    <path d=\"M0 0h24v24H0V0z\" fill=\"none\"/>\n",
       "    <path d=\"M18.56 5.44l.94 2.06.94-2.06 2.06-.94-2.06-.94-.94-2.06-.94 2.06-2.06.94zm-11 1L8.5 8.5l.94-2.06 2.06-.94-2.06-.94L8.5 2.5l-.94 2.06-2.06.94zm10 10l.94 2.06.94-2.06 2.06-.94-2.06-.94-.94-2.06-.94 2.06-2.06.94z\"/><path d=\"M17.41 7.96l-1.37-1.37c-.4-.4-.92-.59-1.43-.59-.52 0-1.04.2-1.43.59L10.3 9.45l-7.72 7.72c-.78.78-.78 2.05 0 2.83L4 21.41c.39.39.9.59 1.41.59.51 0 1.02-.2 1.41-.59l7.78-7.78 2.81-2.81c.8-.78.8-2.07 0-2.86zM5.41 20L4 18.59l7.72-7.72 1.47 1.35L5.41 20z\"/>\n",
       "  </svg>\n",
       "      </button>\n",
       "      \n",
       "  <style>\n",
       "    .colab-df-container {\n",
       "      display:flex;\n",
       "      flex-wrap:wrap;\n",
       "      gap: 12px;\n",
       "    }\n",
       "\n",
       "    .colab-df-convert {\n",
       "      background-color: #E8F0FE;\n",
       "      border: none;\n",
       "      border-radius: 50%;\n",
       "      cursor: pointer;\n",
       "      display: none;\n",
       "      fill: #1967D2;\n",
       "      height: 32px;\n",
       "      padding: 0 0 0 0;\n",
       "      width: 32px;\n",
       "    }\n",
       "\n",
       "    .colab-df-convert:hover {\n",
       "      background-color: #E2EBFA;\n",
       "      box-shadow: 0px 1px 2px rgba(60, 64, 67, 0.3), 0px 1px 3px 1px rgba(60, 64, 67, 0.15);\n",
       "      fill: #174EA6;\n",
       "    }\n",
       "\n",
       "    [theme=dark] .colab-df-convert {\n",
       "      background-color: #3B4455;\n",
       "      fill: #D2E3FC;\n",
       "    }\n",
       "\n",
       "    [theme=dark] .colab-df-convert:hover {\n",
       "      background-color: #434B5C;\n",
       "      box-shadow: 0px 1px 3px 1px rgba(0, 0, 0, 0.15);\n",
       "      filter: drop-shadow(0px 1px 2px rgba(0, 0, 0, 0.3));\n",
       "      fill: #FFFFFF;\n",
       "    }\n",
       "  </style>\n",
       "\n",
       "      <script>\n",
       "        const buttonEl =\n",
       "          document.querySelector('#df-41b7dfc9-5a7f-43ab-8389-d1deb932f795 button.colab-df-convert');\n",
       "        buttonEl.style.display =\n",
       "          google.colab.kernel.accessAllowed ? 'block' : 'none';\n",
       "\n",
       "        async function convertToInteractive(key) {\n",
       "          const element = document.querySelector('#df-41b7dfc9-5a7f-43ab-8389-d1deb932f795');\n",
       "          const dataTable =\n",
       "            await google.colab.kernel.invokeFunction('convertToInteractive',\n",
       "                                                     [key], {});\n",
       "          if (!dataTable) return;\n",
       "\n",
       "          const docLinkHtml = 'Like what you see? Visit the ' +\n",
       "            '<a target=\"_blank\" href=https://colab.research.google.com/notebooks/data_table.ipynb>data table notebook</a>'\n",
       "            + ' to learn more about interactive tables.';\n",
       "          element.innerHTML = '';\n",
       "          dataTable['output_type'] = 'display_data';\n",
       "          await google.colab.output.renderOutput(dataTable, element);\n",
       "          const docLink = document.createElement('div');\n",
       "          docLink.innerHTML = docLinkHtml;\n",
       "          element.appendChild(docLink);\n",
       "        }\n",
       "      </script>\n",
       "    </div>\n",
       "  </div>\n",
       "  "
      ],
      "text/plain": [
       "   word_freq_make:  word_freq_address:  word_freq_all:  word_freq_3d:  \\\n",
       "0             0.00                0.64            0.64            0.0   \n",
       "1             0.21                0.28            0.50            0.0   \n",
       "2             0.06                0.00            0.71            0.0   \n",
       "3             0.00                0.00            0.00            0.0   \n",
       "4             0.00                0.00            0.00            0.0   \n",
       "5             0.00                0.00            0.00            0.0   \n",
       "\n",
       "   word_freq_our:  word_freq_over:  word_freq_remove:  word_freq_internet:  \\\n",
       "0            0.32             0.00               0.00                 0.00   \n",
       "1            0.14             0.28               0.21                 0.07   \n",
       "2            1.23             0.19               0.19                 0.12   \n",
       "3            0.63             0.00               0.31                 0.63   \n",
       "4            0.63             0.00               0.31                 0.63   \n",
       "5            1.85             0.00               0.00                 1.85   \n",
       "\n",
       "   word_freq_order:  word_freq_mail:  ...  char_freq_;:  char_freq_(:  \\\n",
       "0              0.00             0.00  ...          0.00         0.000   \n",
       "1              0.00             0.94  ...          0.00         0.132   \n",
       "2              0.64             0.25  ...          0.01         0.143   \n",
       "3              0.31             0.63  ...          0.00         0.137   \n",
       "4              0.31             0.63  ...          0.00         0.135   \n",
       "5              0.00             0.00  ...          0.00         0.223   \n",
       "\n",
       "   char_freq_[:  char_freq_!:  char_freq_$:  char_freq_#:  \\\n",
       "0           0.0         0.778         0.000         0.000   \n",
       "1           0.0         0.372         0.180         0.048   \n",
       "2           0.0         0.276         0.184         0.010   \n",
       "3           0.0         0.137         0.000         0.000   \n",
       "4           0.0         0.135         0.000         0.000   \n",
       "5           0.0         0.000         0.000         0.000   \n",
       "\n",
       "   capital_run_length_average:  capital_run_length_longest:  \\\n",
       "0                        3.756                           61   \n",
       "1                        5.114                          101   \n",
       "2                        9.821                          485   \n",
       "3                        3.537                           40   \n",
       "4                        3.537                           40   \n",
       "5                        3.000                           15   \n",
       "\n",
       "   capital_run_length_total:  spam  \n",
       "0                        278     1  \n",
       "1                       1028     1  \n",
       "2                       2259     1  \n",
       "3                        191     1  \n",
       "4                        191     1  \n",
       "5                         54     1  \n",
       "\n",
       "[6 rows x 58 columns]"
      ]
     },
     "execution_count": 307,
     "metadata": {},
     "output_type": "execute_result"
    }
   ],
   "source": [
    "import pandas as pd\n",
    "import numpy as np\n",
    "\n",
    "#importing and reading\n",
    "df = pd.read_csv(\"/content/drive/MyDrive/Colab Notebooks/Machine Learning/HW Midterms/spam_dataset.csv\")\n",
    "print(df.shape)\n",
    "df.head(n=6)"
   ]
  },
  {
   "cell_type": "markdown",
   "metadata": {
    "id": "zzB7_ByCX0l5"
   },
   "source": [
    "#### (2) Read through the documentation of the original dataset here:\n",
    "\n",
    "http://archive.ics.uci.edu/ml/machine-learning-databases/spambase/spambase.names\n",
    "\n",
    "The dependent variable is \"spam\" where one indicates that an email is spam and zero otherwise.  Which three variables in the dataset do you think will be important predictors in a model of spam?  Why?"
   ]
  },
  {
   "cell_type": "markdown",
   "metadata": {
    "id": "f-Z_ZhTVehnZ"
   },
   "source": [
    "I would guess that 3 important predictors would be:\n",
    "1. capital_run_length_average: Spam email often isn't well formatted and will be prone to run-on sentences with poor capitalization.\n",
    "2. word_freq_free: Spam email is also enticing for offering 'free' things, so this word frequency should capture such instances.\n",
    "3. word_freq_credit: Spam email could target those with poor credit scores offering to raise it, or will ask for credit card details, this should capture those"
   ]
  },
  {
   "cell_type": "markdown",
   "metadata": {
    "id": "P9cv8Y_iZm8t"
   },
   "source": [
    "#### (3) Visualize the univariate distribution of each of the variables in the previous question.  "
   ]
  },
  {
   "cell_type": "code",
   "execution_count": 346,
   "metadata": {
    "colab": {
     "base_uri": "https://localhost:8080/",
     "height": 297
    },
    "id": "5bs8QQWUZpYz",
    "outputId": "ce4ec22a-cb52-41b7-8f26-bc8aaa5f8647"
   },
   "outputs": [
    {
     "data": {
      "text/plain": [
       "Text(0, 0.5, 'Count')"
      ]
     },
     "execution_count": 346,
     "metadata": {},
     "output_type": "execute_result"
    },
    {
     "data": {
      "image/png": "[encoded data removed]",
      "text/plain": [
       "<Figure size 432x288 with 1 Axes>"
      ]
     },
     "metadata": {
      "needs_background": "light"
     },
     "output_type": "display_data"
    }
   ],
   "source": [
    "from matplotlib import pyplot as plt \n",
    "%matplotlib inline\n",
    "\n",
    "# visualizing capital_run_length_average:\n",
    "df['capital_run_length_average:'].hist(range=[0, 15])\n",
    "plt.xlabel('Average Run On Length')\n",
    "plt.ylabel('Count')"
   ]
  },
  {
   "cell_type": "code",
   "execution_count": 352,
   "metadata": {
    "colab": {
     "base_uri": "https://localhost:8080/",
     "height": 297
    },
    "id": "foOoaO1Fbh2X",
    "outputId": "1319a6dd-5413-4321-d471-8f8a8d871a05"
   },
   "outputs": [
    {
     "data": {
      "text/plain": [
       "Text(0, 0.5, 'Count')"
      ]
     },
     "execution_count": 352,
     "metadata": {},
     "output_type": "execute_result"
    },
    {
     "data": {
      "image/png": "[encoded data removed]",
      "text/plain": [
       "<Figure size 432x288 with 1 Axes>"
      ]
     },
     "metadata": {
      "needs_background": "light"
     },
     "output_type": "display_data"
    }
   ],
   "source": [
    "# visualizing word_freq_free:\n",
    "df['word_freq_free:'].hist(range=[0, 5], color='y')\n",
    "plt.xlabel(\"Frequency for the word 'Free'\")\n",
    "plt.ylabel('Count')"
   ]
  },
  {
   "cell_type": "code",
   "execution_count": 350,
   "metadata": {
    "colab": {
     "base_uri": "https://localhost:8080/",
     "height": 297
    },
    "id": "9JN_zGWybljG",
    "outputId": "04952778-97d9-4666-fa4f-20076038b21a"
   },
   "outputs": [
    {
     "data": {
      "text/plain": [
       "Text(0, 0.5, 'Count')"
      ]
     },
     "execution_count": 350,
     "metadata": {},
     "output_type": "execute_result"
    },
    {
     "data": {
      "image/png": "[encoded data removed]",
      "text/plain": [
       "<Figure size 432x288 with 1 Axes>"
      ]
     },
     "metadata": {
      "needs_background": "light"
     },
     "output_type": "display_data"
    }
   ],
   "source": [
    "# visualizing word_freq_credit:\n",
    "df['word_freq_credit:'].hist(range=[0, 1], color='g')\n",
    "plt.xlabel(\"Frequency for the word 'Credit'\")\n",
    "plt.ylabel('Count')"
   ]
  },
  {
   "cell_type": "markdown",
   "metadata": {
    "id": "DQ3C18kndEJZ"
   },
   "source": [
    "#### (4) Name each of the supervised learning models that we have learned thus far that are used to predict dependent variables like \"spam\".   "
   ]
  },
  {
   "cell_type": "markdown",
   "metadata": {
    "id": "0pHGOFHzeLV2"
   },
   "source": [
    "We have covered K-Nearest Neighbor (Classifier), OneHotEncoders, Logistic Regression, Penalized Logistic Regression, Decision Trees Classifier, Random Forests Classifier (bagging, boosting), Support Vector Machines\n",
    "\n"
   ]
  },
  {
   "cell_type": "markdown",
   "metadata": {
    "id": "Jqcu07_cd8LK"
   },
   "source": [
    "#### (5) Describe the importance of training and test data.  Why do we separate data into these subsets?"
   ]
  },
  {
   "cell_type": "markdown",
   "metadata": {
    "id": "d6q_OmiPeuIL"
   },
   "source": [
    "Splitting data is an important part of data science, as it helps make models more accurate. In machine learning, data can be split into test and training data. The training data is used to fit the model and train it to determine a prediction and to gain an understanding of the data. The test data set is then used to compare results of models. Splitting up the data to 'train' and 'test' can be used to prevent overfitting a model and to ensure that the model is able to generate results that are accurate and useful. A train-test split is an effective way to check is a model has learned the data and is able to use it to generate results; however, the model is only 'scored' or evaluated on the results of the test data."
   ]
  },
  {
   "cell_type": "markdown",
   "metadata": {
    "id": "EAI5qiwwg6N9"
   },
   "source": [
    "#### (6) What is k-fold cross validation and what do we use it for?\n",
    "\n"
   ]
  },
  {
   "cell_type": "markdown",
   "metadata": {
    "id": "aPvG2CKaiyfw"
   },
   "source": [
    "K-Fold cross-validation is the process of splitting up machine learning input data into \"k\" number of \"folds\" or groups; for example, when k=10, the data is split into 10 different groups. \n",
    "\n",
    "Cross-validation is a way to measure and evaluate machine learning models based on input data. In k-fold cross-validation, the test and training data and cycled through: in one iteration, a first section will be used as test data while the others will be used for training, and then scored. This process will continue through all the folds to get a good test and training score. By holding one section as test and running the k-1 sections as training, it is possible to get a better score and evaluation of the model, with reduced bias in the data. "
   ]
  },
  {
   "cell_type": "markdown",
   "metadata": {
    "id": "_l7_g3i-kXgz"
   },
   "source": [
    "#### (7) How is k-fold cross validation different from stratified k-fold cross validation?"
   ]
  },
  {
   "cell_type": "markdown",
   "metadata": {
    "id": "ULM1yzILkoYp"
   },
   "source": [
    "Stratified K-Fold Cross Validation (SKFCV) is a slightly more advanced version of K-Fold Cross Validation (KFCV). In SKFCV, the above described splits in data (folds) will also retain certain properties of the whole dataset; for example, a percentage or proportion of observations with a specific kind of label or attribute. SKFCV is thus a little less random, but can be more accurate and can help improve models in some cases. "
   ]
  },
  {
   "cell_type": "markdown",
   "metadata": {
    "id": "b2zchRihxZZb"
   },
   "source": [
    "#### (8) Choose one model from question four.  Split the data into training and test subsets.  Build a model with the three variables in the dataset that you think will be good predictors of \"spam\".  Describe why you chose any particular parameters for your model (e.g.- if you used KNN how did you decide to choose a specific value for k).  Run the model and evaluate prediction error in two ways: A) On test data directly and B) using k-fold cross-validation.  "
   ]
  },
  {
   "cell_type": "code",
   "execution_count": 311,
   "metadata": {
    "id": "zbgzHnTkxZHS"
   },
   "outputs": [],
   "source": [
    "# I will use KNN Classifier for this question\n",
    "from sklearn.neighbors import KNeighborsClassifier\n",
    "\n",
    "# keeping only three variables + the dependent variable\n",
    "df2 = df[['capital_run_length_average:','word_freq_free:','word_freq_credit:','spam']]\n",
    "df2.head()\n",
    "\n",
    "# splitting data into y and x\n",
    "y = df2['spam']\n",
    "X = df2.loc[:, df2.columns != 'spam']"
   ]
  },
  {
   "cell_type": "code",
   "execution_count": 312,
   "metadata": {
    "colab": {
     "base_uri": "https://localhost:8080/"
    },
    "id": "xVA3QDOazFJQ",
    "outputId": "a76c0044-2999-43d7-c8ca-67d8ba14cc78"
   },
   "outputs": [
    {
     "name": "stdout",
     "output_type": "stream",
     "text": [
      "(4601, 3)\n",
      "(3450, 3)\n",
      "(1151, 3)\n"
     ]
    }
   ],
   "source": [
    "# test train split\n",
    "from sklearn.model_selection import train_test_split\n",
    "\n",
    "X_train, X_test, y_train, y_test = train_test_split(X, y, random_state=42)\n",
    "\n",
    "print(X.shape)\n",
    "print(X_train.shape)\n",
    "print(X_test.shape)\n",
    "\n",
    "# Scaling all the data\n",
    "from sklearn.preprocessing import StandardScaler\n",
    "\n",
    "scaler = StandardScaler()\n",
    "scaler.fit(X_train)\n",
    "X_train = scaler.transform(X_train)\n",
    "X_test = scaler.transform(X_test)"
   ]
  },
  {
   "cell_type": "code",
   "execution_count": 313,
   "metadata": {
    "colab": {
     "base_uri": "https://localhost:8080/"
    },
    "id": "88xPYS_RzWMx",
    "outputId": "f31ef5e4-3212-4689-cd70-bf1840251a94"
   },
   "outputs": [
    {
     "name": "stdout",
     "output_type": "stream",
     "text": [
      "Best Parameters: {'n_neighbors': 11}\n"
     ]
    }
   ],
   "source": [
    "# using GridSearchCV to tune parameters for the model\n",
    "from sklearn.model_selection import GridSearchCV\n",
    "\n",
    "# List a set of potential parameters\n",
    "knn_param_grid = {'n_neighbors': np.arange(1, 20, 2)}\n",
    "knngrid = GridSearchCV(KNeighborsClassifier(), param_grid=knn_param_grid)\n",
    "knngrid.fit(X_train, y_train)\n",
    "\n",
    "print(\"Best Parameters: {}\".format(knngrid.best_params_))"
   ]
  },
  {
   "cell_type": "code",
   "execution_count": 314,
   "metadata": {
    "colab": {
     "base_uri": "https://localhost:8080/"
    },
    "id": "UHLFV0UpDxGh",
    "outputId": "59cc26e1-7bfa-468d-c0d3-dcb236d5526f"
   },
   "outputs": [
    {
     "name": "stdout",
     "output_type": "stream",
     "text": [
      "KNN CLASSIFER (SCALED) SCORES\n",
      "Test Set Score: 0.808\n",
      "Mean Cross Validation Score using KFold: 0.817\n",
      "\n",
      "\n",
      "I used GridSearchCV to decide on a specific value of K: this value came out to be n=11.\n"
     ]
    }
   ],
   "source": [
    "# importing cross val & mean for score calculations; KFold for kfold CV\n",
    "from sklearn.model_selection import cross_val_score\n",
    "from statistics import mean \n",
    "from sklearn.model_selection import KFold\n",
    "\n",
    "knn = KNeighborsClassifier(n_neighbors=11)\n",
    "knn.fit(X_train, y_train)\n",
    "kfold = KFold()\n",
    "\n",
    "print(\"KNN CLASSIFER (SCALED) SCORES\")\n",
    "print(\"Test Set Score: {:.3f}\".format(knn.score(X_test, y_test)))\n",
    "print(\"Mean Cross Validation Score using KFold: {:.3f}\".format(np.mean(cross_val_score(knn, X_train, y_train, cv=kfold))))\n",
    "knn_test_score = knn.score(X_test, y_test)\n",
    "knn_mean_score = np.mean(cross_val_score(knn, X_train, y_train, cv=kfold))\n",
    "\n",
    "print(\"\\n\")\n",
    "\n",
    "print(\"I used GridSearchCV to decide on a specific value of K: this value came out to be n=11.\")"
   ]
  },
  {
   "cell_type": "markdown",
   "metadata": {
    "id": "pek0ctHVErhi"
   },
   "source": [
    "#### (9) Choose a second model from question four.  Using the same three variables in the dataset that you think will be good predictors of \"spam\".  Describe why you chose any particular parameters for your model (e.g.- if you used KNN how did you decide to choose a specific value for k).  Run the model and evaluate prediction error in two ways: A) On test data directly and B) using k-fold cross-validation.  Did this model predict test data better than your previous model?"
   ]
  },
  {
   "cell_type": "code",
   "execution_count": 315,
   "metadata": {
    "colab": {
     "base_uri": "https://localhost:8080/"
    },
    "id": "Z4H7D04FEwlz",
    "outputId": "f9a3bf74-7fec-47b8-a827-7bf94e5e6ba8"
   },
   "outputs": [
    {
     "name": "stdout",
     "output_type": "stream",
     "text": [
      "Best Parameters: {'criterion': 'gini', 'max_depth': 6, 'n_estimators': 9}\n"
     ]
    }
   ],
   "source": [
    "# I will use random forest classifier for this question\n",
    "from sklearn.ensemble import RandomForestClassifier\n",
    "\n",
    "forest_param_grid = {'criterion':['gini','entropy'],'max_depth':np.arange(1, 10), 'n_estimators':np.arange(1, 10)}\n",
    "forestgrid = GridSearchCV(RandomForestClassifier(random_state=42), param_grid=forest_param_grid)\n",
    "forestgrid.fit(X_train, y_train)\n",
    "\n",
    "print(\"Best Parameters: {}\".format(forestgrid.best_params_))"
   ]
  },
  {
   "cell_type": "code",
   "execution_count": 326,
   "metadata": {
    "colab": {
     "base_uri": "https://localhost:8080/"
    },
    "id": "ChDP6APBwvbJ",
    "outputId": "061fbbb6-3fc6-43b3-b7cd-10dabea1ebf9"
   },
   "outputs": [
    {
     "name": "stdout",
     "output_type": "stream",
     "text": [
      "RANDOM FOREST (SCALED) SCORES\n",
      "Test set score: 0.810\n",
      "Mean Cross Validation Score using KFold: 0.826\n",
      "\n",
      "\n",
      "I used GridSearchCV to decide on some of the parameters for RandomForestClassifier (I did not do all possible parameters as it was computationally expensive) and found that.\n",
      "the best results were at 'criterion': 'gini', 'max_depth': 6, 'n_estimators': 9\n",
      "\n",
      "\n",
      "Other Model Results So Far\n",
      "KNN Test Set Score: 0.808\n",
      "KNN Mean CV Score: 0.817\n",
      "\n",
      "\n",
      "The Random Forest model was better than the KNNClassifier Model for both Mean Score and Test Score.\n"
     ]
    }
   ],
   "source": [
    "forest = RandomForestClassifier(criterion = 'gini', max_depth = 6, n_estimators = 9, random_state=42)\n",
    "forest.fit(X_train, y_train)\n",
    "\n",
    "print(\"RANDOM FOREST (SCALED) SCORES\")\n",
    "print(\"Test set score: {:.3f}\".format(forest.score(X_test, y_test)))\n",
    "print(\"Mean Cross Validation Score using KFold: {:.3f}\".format(np.mean(cross_val_score(forest, X_train, y_train, cv=kfold))))\n",
    "forest_test_score = forest.score(X_test, y_test)\n",
    "forest_mean_score = np.mean(cross_val_score(forest, X_train, y_train, cv=kfold))\n",
    "\n",
    "print(\"\\n\")\n",
    "\n",
    "print(\"I used GridSearchCV to decide on some of the parameters for RandomForestClassifier (I did not do all possible parameters as it was computationally expensive) and found that.\")\n",
    "print(\"the best results were at 'criterion': 'gini', 'max_depth': 6, 'n_estimators': 9\")\n",
    "\n",
    "print(\"\\n\")\n",
    "\n",
    "print(\"Other Model Results So Far\")\n",
    "print(\"KNN Test Set Score: {:.3f}\".format(knn_test_score))\n",
    "print(\"KNN Mean CV Score: {:.3f}\".format(knn_mean_score))\n",
    "\n",
    "print(\"\\n\")\n",
    "\n",
    "print(\"The Random Forest model was better than the KNNClassifier Model for both Mean Score and Test Score.\")"
   ]
  },
  {
   "cell_type": "markdown",
   "metadata": {
    "id": "YAMSS2tSXMCw"
   },
   "source": [
    "#### (10) Choose a third model from question four.  Using the same three variables in the dataset that you think will be good predictors of \"spam\".  Describe why you chose any particular parameters for your model (e.g.- if you used KNN how did you decide to choose a specific value for k). Run the model and evaluate prediction error in two ways: A) On test data directly and B) using k-fold cross-validation.  Did this model predict test data better than your previous models?\n",
    "\n"
   ]
  },
  {
   "cell_type": "code",
   "execution_count": 327,
   "metadata": {
    "colab": {
     "base_uri": "https://localhost:8080/"
    },
    "id": "w8scXh8AXKzL",
    "outputId": "830f9961-69f4-4e20-e71a-db6e5b10dab7"
   },
   "outputs": [
    {
     "name": "stdout",
     "output_type": "stream",
     "text": [
      "Best Parameters: {'C': 100}\n"
     ]
    }
   ],
   "source": [
    "# I will use logistic regression for this question\n",
    "from sklearn.linear_model import LogisticRegression\n",
    "\n",
    "logreg_param_grid = {'C': [0.001, 0.01, 0.1, 1, 10, 100, 1000]}\n",
    "logreggrid = GridSearchCV(LogisticRegression(random_state=42), param_grid=logreg_param_grid)\n",
    "logreggrid.fit(X_train, y_train)\n",
    "\n",
    "print(\"Best Parameters: {}\".format(logreggrid.best_params_))"
   ]
  },
  {
   "cell_type": "code",
   "execution_count": 335,
   "metadata": {
    "colab": {
     "base_uri": "https://localhost:8080/"
    },
    "id": "GFnXKtZjZGQz",
    "outputId": "0e2165cf-b54a-4d3b-cd41-64f5cc0284f3"
   },
   "outputs": [
    {
     "name": "stdout",
     "output_type": "stream",
     "text": [
      "LOGISTIC REGRESSION (SCALED) SCORES\n",
      "Test set score: 0.770\n",
      "Mean Cross Validation Score using KFold: 0.775\n",
      "\n",
      "\n",
      "I used GridSearchCV to find that the best C value for an unpenalized Logistic Regression is C=100\n",
      "\n",
      "\n",
      "Other Model Results So Far\n",
      "KNN Test Set Score: 0.808\n",
      "KNN Mean CV Score: 0.817\n",
      "Forest Test Set Score: 0.810\n",
      "Forest Mean CV Score: 0.826\n",
      "\n",
      "\n",
      "The Logistic Regression model was not better than the Random Forest Model or than the KNN Classifier Model.\n"
     ]
    }
   ],
   "source": [
    "logreg = LogisticRegression(penalty = 'none', C=100, random_state=42)\n",
    "logreg.fit(X_train, y_train)\n",
    "\n",
    "print(\"LOGISTIC REGRESSION (SCALED) SCORES\")\n",
    "print(\"Test set score: {:.3f}\".format(logreg.score(X_test, y_test)))\n",
    "print(\"Mean Cross Validation Score using KFold: {:.3f}\".format(np.mean(cross_val_score(logreg, X_train, y_train, cv=kfold))))\n",
    "logreg_test_score = logreg.score(X_test, y_test)\n",
    "logreg_mean_score = np.mean(cross_val_score(logreg, X_train, y_train, cv=kfold))\n",
    "\n",
    "print(\"\\n\")\n",
    "\n",
    "print(\"I used GridSearchCV to find that the best C value for an unpenalized Logistic Regression is C=100\")\n",
    "\n",
    "print(\"\\n\")\n",
    "\n",
    "print(\"Other Model Results So Far\")\n",
    "print(\"KNN Test Set Score: {:.3f}\".format(knn_test_score))\n",
    "print(\"KNN Mean CV Score: {:.3f}\".format(knn_mean_score))\n",
    "print(\"Forest Test Set Score: {:.3f}\".format(forest_test_score))\n",
    "print(\"Forest Mean CV Score: {:.3f}\".format(forest_mean_score))\n",
    "\n",
    "print(\"\\n\")\n",
    "\n",
    "print(\"The Logistic Regression model was not better than the Random Forest Model or than the KNN Classifier Model.\")"
   ]
  },
  {
   "cell_type": "markdown",
   "metadata": {
    "id": "KFY41emKa91N"
   },
   "source": [
    "#### (11) Choose a fourth model from question four.  Using the same three variables in the dataset that you think will be good predictors of \"spam\".  Describe why you chose any particular parameters for your model (e.g.- if you used KNN how did you decide to choose a specific value for k). Run the model and evaluate prediction error in two ways: A) On test data directly and B) using k-fold cross-validation.  Did this model predict test data better than your previous models?\n"
   ]
  },
  {
   "cell_type": "code",
   "execution_count": 329,
   "metadata": {
    "colab": {
     "base_uri": "https://localhost:8080/"
    },
    "id": "pOMKoXN9bCh_",
    "outputId": "c5b9abb5-1d8b-4a98-ed7b-b95e8647b6ae"
   },
   "outputs": [
    {
     "name": "stdout",
     "output_type": "stream",
     "text": [
      "Best Parameters: {'criterion': 'gini', 'max_depth': 8, 'min_samples_leaf': 7}\n"
     ]
    }
   ],
   "source": [
    "# I will use Decision Tree Classifier for this question\n",
    "from sklearn.tree import DecisionTreeClassifier\n",
    "\n",
    "tree_param_grid = {'criterion':['gini','entropy'],'max_depth': np.arange(1, 10), 'min_samples_leaf':np.arange(1,10)}\n",
    "treegrid = GridSearchCV(DecisionTreeClassifier(random_state=42), param_grid=tree_param_grid)\n",
    "treegrid.fit(X_train, y_train)\n",
    "\n",
    "print(\"Best Parameters: {}\".format(treegrid.best_params_))"
   ]
  },
  {
   "cell_type": "code",
   "execution_count": 341,
   "metadata": {
    "colab": {
     "base_uri": "https://localhost:8080/"
    },
    "id": "Da8vvlmRdv-8",
    "outputId": "b1c7b03b-c803-4184-bc6b-267d01a98ffc"
   },
   "outputs": [
    {
     "name": "stdout",
     "output_type": "stream",
     "text": [
      "TREE MODEL (SCALED) SCORES\n",
      "Test set score: 0.802\n",
      "Mean Cross Validation Score using KFold: 0.815\n",
      "\n",
      "\n",
      "I used GridSearchCV to find that the best parameters for this Tree Model are 'criterion': 'gini', 'max_depth': 6, 'min_samples_leaf': 7\n",
      "\n",
      "\n",
      "Other Model Results So Far\n",
      "KNN Test Set Score: 0.808\n",
      "KNN Mean CV Score: 0.817\n",
      "Forest Test Set Score: 0.810\n",
      "Forest Mean CV Score: 0.826\n",
      "Logistic Regression Test Set Score: 0.770\n",
      "Logistic Regression Mean CV Score: 0.775\n",
      "\n",
      "\n",
      "The Tree Model was better than the Logistic Regression.\n",
      "It was, however, not better than the Random Forest Model and KNN Classifier Model.\n"
     ]
    }
   ],
   "source": [
    "tree = DecisionTreeClassifier(criterion = 'gini', max_depth = 8, min_samples_leaf = 7, random_state=42)\n",
    "tree.fit(X_train,y_train)\n",
    "\n",
    "print(\"TREE MODEL (SCALED) SCORES\")\n",
    "print(\"Test set score: {:.3f}\".format(tree.score(X_test, y_test)))\n",
    "print(\"Mean Cross Validation Score using KFold: {:.3f}\".format(np.mean(cross_val_score(tree, X_train, y_train, cv=kfold))))\n",
    "tree_test_score = tree.score(X_test, y_test)\n",
    "tree_mean_score = np.mean(cross_val_score(tree, X_train, y_train, cv=kfold))\n",
    "\n",
    "print(\"\\n\")\n",
    "\n",
    "print(\"I used GridSearchCV to find that the best parameters for this Tree Model are 'criterion': 'gini', 'max_depth': 6, 'min_samples_leaf': 7\")\n",
    "\n",
    "print(\"\\n\")\n",
    "\n",
    "print(\"Other Model Results So Far\")\n",
    "print(\"KNN Test Set Score: {:.3f}\".format(knn_test_score))\n",
    "print(\"KNN Mean CV Score: {:.3f}\".format(knn_mean_score))\n",
    "print(\"Forest Test Set Score: {:.3f}\".format(forest_test_score))\n",
    "print(\"Forest Mean CV Score: {:.3f}\".format(forest_mean_score))\n",
    "print(\"Logistic Regression Test Set Score: {:.3f}\".format(logreg_test_score))\n",
    "print(\"Logistic Regression Mean CV Score: {:.3f}\".format(logreg_mean_score))\n",
    "\n",
    "print(\"\\n\")\n",
    "\n",
    "print(\"The Tree Model was better than the Logistic Regression.\") \n",
    "print(\"It was, however, not better than the Random Forest Model and KNN Classifier Model.\")"
   ]
  },
  {
   "cell_type": "markdown",
   "metadata": {
    "id": "SR97RXCQgwOM"
   },
   "source": [
    "#### (12) Now rerun your best model from questions 8 through 11, but this time add three new variables to the model that you think will increase prediction accuracy.   Did this model predict test data better than your previous models?  \n",
    "\n"
   ]
  },
  {
   "cell_type": "code",
   "execution_count": 337,
   "metadata": {
    "id": "R22-tSYagyOo"
   },
   "outputs": [],
   "source": [
    "# I will use Random Forest Classifier for this question, as it gave me the best Test Set Score above\n",
    "\n",
    "# having six variables total + the dependent variable (I added variables for 'receive', 'money' and '!')\n",
    "df3 = df[['capital_run_length_average:','word_freq_free:','word_freq_credit:', 'word_freq_receive:', 'word_freq_money:', 'char_freq_!:', 'spam']]\n",
    "\n",
    "# splitting data into y and x\n",
    "y2 = df3['spam']\n",
    "X2 = df3.loc[:, df3.columns != 'spam']"
   ]
  },
  {
   "cell_type": "code",
   "execution_count": 338,
   "metadata": {
    "id": "LiIweqOQh8KM"
   },
   "outputs": [],
   "source": [
    "X_train2, X_test2, y_train2, y_test2 = train_test_split(X2, y2, random_state=42)\n",
    "\n",
    "scaler = StandardScaler()\n",
    "scaler.fit(X_train2)\n",
    "X_train2 = scaler.transform(X_train2)\n",
    "X_test2 = scaler.transform(X_test2)"
   ]
  },
  {
   "cell_type": "code",
   "execution_count": 354,
   "metadata": {
    "colab": {
     "base_uri": "https://localhost:8080/"
    },
    "id": "8UBEcRDUiLmo",
    "outputId": "f3c090e1-3d51-46b1-898b-c066669597cf"
   },
   "outputs": [
    {
     "name": "stdout",
     "output_type": "stream",
     "text": [
      "RANDOM FOREST (SCALED) SCORES WITH 6 VARIABLES\n",
      "Test set score: 0.892\n",
      "Mean Cross Validation Score using KFold: 0.872\n",
      "\n",
      "\n",
      "RESULTS FOR MODELS WITH 3 VARIABLES\n",
      "KNN Test Set Score: 0.808\n",
      "KNN Mean CV Score: 0.817\n",
      "Forest Test Set Score: 0.810\n",
      "Forest Mean CV Score: 0.826\n",
      "Logistic Regression Test Set Score: 0.770\n",
      "Logistic Regression Mean CV Score: 0.775\n",
      "Tree Test Set Score: 0.802\n",
      "Tree Mean CV Score: 0.815\n",
      "\n",
      "\n",
      "This new Random Forest model with 6 variables was a better predictor of test data than all the models before.\n"
     ]
    }
   ],
   "source": [
    "forest.fit(X_train2, y_train2)\n",
    "\n",
    "print(\"RANDOM FOREST (SCALED) SCORES WITH 6 VARIABLES\")\n",
    "print(\"Test set score: {:.3f}\".format(forest.score(X_test2, y_test2)))\n",
    "print(\"Mean Cross Validation Score using KFold: {:.3f}\".format(np.mean(cross_val_score(forest, X_train2, y_train2, cv=kfold))))\n",
    "forest2_test_score = forest.score(X_test2, y_test2)\n",
    "forest2_mean_score = np.mean(cross_val_score(forest, X_train2, y_train2, cv=kfold))\n",
    "\n",
    "print(\"\\n\")\n",
    "\n",
    "print(\"RESULTS FOR MODELS WITH 3 VARIABLES\")\n",
    "print(\"KNN Test Set Score: {:.3f}\".format(knn_test_score))\n",
    "print(\"KNN Mean CV Score: {:.3f}\".format(knn_mean_score))\n",
    "print(\"Forest Test Set Score: {:.3f}\".format(forest_test_score))\n",
    "print(\"Forest Mean CV Score: {:.3f}\".format(forest_mean_score))\n",
    "print(\"Logistic Regression Test Set Score: {:.3f}\".format(logreg_test_score))\n",
    "print(\"Logistic Regression Mean CV Score: {:.3f}\".format(logreg_mean_score))\n",
    "print(\"Tree Test Set Score: {:.3f}\".format(tree_test_score))\n",
    "print(\"Tree Mean CV Score: {:.3f}\".format(tree_mean_score))\n",
    "\n",
    "print(\"\\n\")\n",
    "\n",
    "print(\"This new Random Forest model with 6 variables was a better predictor of test data than all the models before.\")"
   ]
  },
  {
   "cell_type": "markdown",
   "metadata": {
    "id": "X3bWOj7ykW9a"
   },
   "source": [
    "#### (13) Rerun all your other models with this final set of six variables, evaluate prediction error, and choose a final model.  Why did you select this model among all of the models that you ran?  "
   ]
  },
  {
   "cell_type": "code",
   "execution_count": 345,
   "metadata": {
    "colab": {
     "base_uri": "https://localhost:8080/"
    },
    "id": "RmwdSPEHkWtt",
    "outputId": "ab382a56-29cb-4034-8956-d4b9e976249f"
   },
   "outputs": [
    {
     "name": "stdout",
     "output_type": "stream",
     "text": [
      "KNN CLASSIFER (SCALED) SCORES\n",
      "Test Set Score with 6 variables: 0.862\n",
      "Mean Cross Validation Score using KFold with 6 variables: 0.860\n",
      "Test Set Score with 3 variables: 0.808\n",
      "Mean Cross Validation Score using KFold with 3 variables: 0.817\n",
      "\n",
      "\n",
      "LOGISTIC REGRESSION (SCALED) SCORES\n",
      "Test Set Score with 6 variables: 0.823\n",
      "Mean Cross Validation Score using KFold with 6 variables: 0.818\n",
      "Test Set Score with 3 variables: 0.770\n",
      "Mean Cross Validation Score using KFold with 3 variables: 0.775\n",
      "\n",
      "\n",
      "TREE MODEL (SCALED) SCORES\n",
      "Test Set Score with 6 variables: 0.878\n",
      "Mean Cross Validation Score using KFold with 6 variables: 0.858\n",
      "Test Set Score with 3 variables: 0.802\n",
      "Mean Cross Validation Score using KFold with 3 variables: 0.815\n",
      "\n",
      "\n",
      "RANDOM FOREST (SCALED) SCORES\n",
      "Test set score with 6 variables: 0.892\n",
      "Mean Cross Validation Score using KFold with 6 variables: 0.872\n",
      "Test set score with 3 variables: 0.810\n",
      "Mean Cross Validation Score using KFold with 3 variables: 0.826\n",
      "\n",
      "\n",
      "Based on the scores above, as well as the scores from the previous question, the Random Forest Model with 6 Variables\n",
      "had the highest test score and the highest Mean Cross Val of all the models presented so far (in this random state). \n",
      "Based on this performance, I would choose this model, as it is the best predictor of unseen data. \n"
     ]
    }
   ],
   "source": [
    "# K Neighbors Classifier\n",
    "\n",
    "knn.fit(X_train2, y_train2)\n",
    "\n",
    "print(\"KNN CLASSIFER (SCALED) SCORES\")\n",
    "print(\"Test Set Score with 6 variables: {:.3f}\".format(knn.score(X_test2, y_test2)))\n",
    "print(\"Mean Cross Validation Score using KFold with 6 variables: {:.3f}\".format(np.mean(cross_val_score(knn, X_train2, y_train2, cv=kfold))))\n",
    "print(\"Test Set Score with 3 variables: {:.3f}\".format(knn_test_score))\n",
    "print(\"Mean Cross Validation Score using KFold with 3 variables: {:.3f}\".format(knn_mean_score))\n",
    "\n",
    "print(\"\\n\")\n",
    "\n",
    "# Logistic Regression\n",
    "\n",
    "logreg.fit(X_train2, y_train2)\n",
    "\n",
    "print(\"LOGISTIC REGRESSION (SCALED) SCORES\")\n",
    "print(\"Test Set Score with 6 variables: {:.3f}\".format(logreg.score(X_test2, y_test2)))\n",
    "print(\"Mean Cross Validation Score using KFold with 6 variables: {:.3f}\".format(np.mean(cross_val_score(logreg, X_train2, y_train2, cv=kfold))))\n",
    "print(\"Test Set Score with 3 variables: {:.3f}\".format(logreg_test_score))\n",
    "print(\"Mean Cross Validation Score using KFold with 3 variables: {:.3f}\".format(logreg_mean_score))\n",
    "\n",
    "print(\"\\n\")\n",
    "\n",
    "# Tree\n",
    "\n",
    "tree.fit(X_train2, y_train2)\n",
    "\n",
    "print(\"TREE MODEL (SCALED) SCORES\")\n",
    "print(\"Test Set Score with 6 variables: {:.3f}\".format(tree.score(X_test2, y_test2)))\n",
    "print(\"Mean Cross Validation Score using KFold with 6 variables: {:.3f}\".format(np.mean(cross_val_score(tree, X_train2, y_train2, cv=kfold))))\n",
    "print(\"Test Set Score with 3 variables: {:.3f}\".format(tree_test_score))\n",
    "print(\"Mean Cross Validation Score using KFold with 3 variables: {:.3f}\".format(tree_mean_score))\n",
    "\n",
    "print(\"\\n\")\n",
    "\n",
    "print(\"RANDOM FOREST (SCALED) SCORES\")\n",
    "print(\"Test set score with 6 variables: {:.3f}\".format(forest2_test_score))\n",
    "print(\"Mean Cross Validation Score using KFold with 6 variables: {:.3f}\".format(forest2_mean_score))\n",
    "print(\"Test set score with 3 variables: {:.3f}\".format(forest_test_score))\n",
    "print(\"Mean Cross Validation Score using KFold with 3 variables: {:.3f}\".format(forest_mean_score))\n",
    "\n",
    "print(\"\\n\")\n",
    "\n",
    "# Summarizing\n",
    "\n",
    "print(\"Based on the scores above, as well as the scores from the previous question, the Random Forest Model with 6 Variables\")\n",
    "print(\"had the highest test score and the highest Mean Cross Val of all the models presented so far (in this random state). \")\n",
    "print(\"Based on this performance, I would choose this model, as it is the best predictor of unseen data. \")\n",
    "\n"
   ]
  },
  {
   "cell_type": "markdown",
   "metadata": {
    "id": "0oKPn8mHro3w"
   },
   "source": [
    "#### (14) What variable that currently is not in your model, if included, would be likely to increase your final model's predictive power?  For this answer try to speculate about a variable outside the variables available in the data that would improve you model."
   ]
  },
  {
   "cell_type": "markdown",
   "metadata": {
    "id": "9QFvxOjurrT3"
   },
   "source": [
    "I would have loved to see a variable counting for words like \"click here\", as I know that many spam emails use clickbait as a way to extract personal information. \n",
    "\n",
    "I also think that a variable that counts the number of hyperlinks/URLs in the e-mail body would be cool, as it would be a good indicator to see how many outbound routes that email presents (which is also a popular aspect of spam emails, especially advertising or deal spam)."
   ]
  },
  {
   "cell_type": "markdown",
   "metadata": {
    "id": "0Z_QL48VsTuE"
   },
   "source": [
    "#### (15) Lastly, you have listed each of the models that we have learned to use to predict dependent variables like spam.  List each model we have focused on in class thus far that you could use to evaluate data with a continuous dependent variable. "
   ]
  },
  {
   "cell_type": "markdown",
   "metadata": {
    "id": "q0TuQaULsoVO"
   },
   "source": [
    "We have covered K-Nearest Neighbor (Regressor), Linear Regression, Ridge, Lasso, Logistic Regression, Decision Trees Regressor, Random Forests Regressor, (bagging, boosting), Support Vector Machines"
   ]
  }
 ],
 "metadata": {
  "colab": {
   "provenance": []
  },
  "kernelspec": {
   "display_name": "Python 3 (ipykernel)",
   "language": "python",
   "name": "python3"
  },
  "language_info": {
   "codemirror_mode": {
    "name": "ipython",
    "version": 3
   },
   "file_extension": ".py",
   "mimetype": "text/x-python",
   "name": "python",
   "nbconvert_exporter": "python",
   "pygments_lexer": "ipython3",
   "version": "3.9.12"
  }
 },
 "nbformat": 4,
 "nbformat_minor": 1
}
