{
 "cells": [
  {
   "cell_type": "markdown",
   "metadata": {
    "id": "mOOrA6PiV5Zw"
   },
   "source": [
    "Shivansh Chaturvedi\n",
    "GR5073 - Midterm"
   ]
  },
  {
   "cell_type": "code",
   "execution_count": 306,
   "metadata": {
    "colab": {
     "base_uri": "https://localhost:8080/"
    },
    "id": "GBdeUAZqVO-T",
    "outputId": "f0fad3f2-b80d-41b3-9f67-31c76d80f7af"
   },
   "outputs": [
    {
     "name": "stdout",
     "output_type": "stream",
     "text": [
      "Drive already mounted at /content/drive; to attempt to forcibly remount, call drive.mount(\"/content/drive\", force_remount=True).\n"
     ]
    }
   ],
   "source": [
    "from google.colab import drive\n",
    "drive.mount('/content/drive')\n",
    "\n",
    "# Supress Warnings\n",
    "import warnings\n",
    "warnings.filterwarnings('ignore')"
   ]
  },
  {
   "cell_type": "markdown",
   "metadata": {
    "id": "JpxjOac9XHta"
   },
   "source": [
    "#### (1) Import the spam dataset and print the first six rows.  \n",
    "\n"
   ]
  },
  {
   "cell_type": "code",
   "execution_count": 307,
   "metadata": {
    "colab": {
     "base_uri": "https://localhost:8080/",
     "height": 349
    },
    "id": "Blq_JSewXBcM",
    "outputId": "69306be3-73bc-41fa-f545-49c9d0845f99"
   },
   "outputs": [
    {
     "name": "stdout",
     "output_type": "stream",
     "text": [
      "(4601, 58)\n"
     ]



    "# K Neighbors Classifier\n",
    "\n",
    "knn.fit(X_train2, y_train2)\n",
    "\n",
    "print(\"KNN CLASSIFER (SCALED) SCORES\")\n",
    "print(\"Test Set Score with 6 variables: {:.3f}\".format(knn.score(X_test2, y_test2)))\n",
    "print(\"Mean Cross Validation Score using KFold with 6 variables: {:.3f}\".format(np.mean(cross_val_score(knn, X_train2, y_train2, cv=kfold))))\n",
    "print(\"Test Set Score with 3 variables: {:.3f}\".format(knn_test_score))\n",
    "print(\"Mean Cross Validation Score using KFold with 3 variables: {:.3f}\".format(knn_mean_score))\n",
    "\n",
    "print(\"\\n\")\n",
    "\n",
    "# Logistic Regression\n",
    "\n",
    "logreg.fit(X_train2, y_train2)\n",
    "\n",
    "print(\"LOGISTIC REGRESSION (SCALED) SCORES\")\n",
    "print(\"Test Set Score with 6 variables: {:.3f}\".format(logreg.score(X_test2, y_test2)))\n",
    "print(\"Mean Cross Validation Score using KFold with 6 variables: {:.3f}\".format(np.mean(cross_val_score(logreg, X_train2, y_train2, cv=kfold))))\n",
    "print(\"Test Set Score with 3 variables: {:.3f}\".format(logreg_test_score))\n",
    "print(\"Mean Cross Validation Score using KFold with 3 variables: {:.3f}\".format(logreg_mean_score))\n",
    "\n",
    "print(\"\\n\")\n",
    "\n",
    "# Tree\n",
    "\n",
    "tree.fit(X_train2, y_train2)\n",
    "\n",
    "print(\"TREE MODEL (SCALED) SCORES\")\n",
    "print(\"Test Set Score with 6 variables: {:.3f}\".format(tree.score(X_test2, y_test2)))\n",
    "print(\"Mean Cross Validation Score using KFold with 6 variables: {:.3f}\".format(np.mean(cross_val_score(tree, X_train2, y_train2, cv=kfold))))\n",
    "print(\"Test Set Score with 3 variables: {:.3f}\".format(tree_test_score))\n",
    "print(\"Mean Cross Validation Score using KFold with 3 variables: {:.3f}\".format(tree_mean_score))\n",
    "\n",
    "print(\"\\n\")\n",
    "\n",
    "print(\"RANDOM FOREST (SCALED) SCORES\")\n",
    "print(\"Test set score with 6 variables: {:.3f}\".format(forest2_test_score))\n",
    "print(\"Mean Cross Validation Score using KFold with 6 variables: {:.3f}\".format(forest2_mean_score))\n",
    "print(\"Test set score with 3 variables: {:.3f}\".format(forest_test_score))\n",
    "print(\"Mean Cross Validation Score using KFold with 3 variables: {:.3f}\".format(forest_mean_score))\n",
    "\n",
    "print(\"\\n\")\n",
    "\n",
    "# Summarizing\n",
    "\n",
    "print(\"Based on the scores above, as well as the scores from the previous question, the Random Forest Model with 6 Variables\")\n",
    "print(\"had the highest test score and the highest Mean Cross Val of all the models presented so far (in this random state). \")\n",
    "print(\"Based on this performance, I would choose this model, as it is the best predictor of unseen data. \")\n",
    "\n"
   ]
  },
  {
   "cell_type": "markdown",
   "metadata": {
    "id": "0oKPn8mHro3w"
   },
   "source": [
    "#### (14) What variable that currently is not in your model, if included, would be likely to increase your final model's predictive power?  For this answer try to speculate about a variable outside the variables available in the data that would improve you model."
   ]
  },
  {
   "cell_type": "markdown",
   "metadata": {
    "id": "9QFvxOjurrT3"
   },
   "source": [
    "I would have loved to see a variable counting for words like \"click here\", as I know that many spam emails use clickbait as a way to extract personal information. \n",
    "\n",
    "I also think that a variable that counts the number of hyperlinks/URLs in the e-mail body would be cool, as it would be a good indicator to see how many outbound routes that email presents (which is also a popular aspect of spam emails, especially advertising or deal spam)."
   ]
  },
  {
   "cell_type": "markdown",
   "metadata": {
    "id": "0Z_QL48VsTuE"
   },
   "source": [
    "#### (15) Lastly, you have listed each of the models that we have learned to use to predict dependent variables like spam.  List each model we have focused on in class thus far that you could use to evaluate data with a continuous dependent variable. "
   ]
  },
  {
   "cell_type": "markdown",
   "metadata": {
    "id": "q0TuQaULsoVO"
   },
   "source": [
    "We have covered K-Nearest Neighbor (Regressor), Linear Regression, Ridge, Lasso, Logistic Regression, Decision Trees Regressor, Random Forests Regressor, (bagging, boosting), Support Vector Machines"
   ]
  }
 ],
 "metadata": {
  "colab": {
   "provenance": []
  },
  "kernelspec": {
   "display_name": "Python 3 (ipykernel)",
   "language": "python",
   "name": "python3"
  },
  "language_info": {
   "codemirror_mode": {
    "name": "ipython",
    "version": 3
   },
   "file_extension": ".py",
   "mimetype": "text/x-python",
   "name": "python",
   "nbconvert_exporter": "python",
   "pygments_lexer": "ipython3",
   "version": "3.9.12"
  }
 },
 "nbformat": 4,
 "nbformat_minor": 1
}
